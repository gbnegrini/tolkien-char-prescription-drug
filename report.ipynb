{
 "cells": [
  {
   "cell_type": "markdown",
   "id": "9e520367",
   "metadata": {},
   "source": [
    "# Tolkien character or prescription drug?\n",
    "## Classification using character-level LSTM neural networks"
   ]
  },
  {
   "cell_type": "markdown",
   "id": "8db8da79",
   "metadata": {},
   "source": [
    "## Dataset"
   ]
  },
  {
   "cell_type": "markdown",
   "id": "17657cd8",
   "metadata": {},
   "source": [
    "### Tolkien characters"
   ]
  },
  {
   "cell_type": "code",
   "execution_count": 1,
   "id": "d65dc5ea",
   "metadata": {},
   "outputs": [
    {
     "data": {
      "text/html": [
       "<div>\n",
       "<style scoped>\n",
       "    .dataframe tbody tr th:only-of-type {\n",
       "        vertical-align: middle;\n",
       "    }\n",
       "\n",
       "    .dataframe tbody tr th {\n",
       "        vertical-align: top;\n",
       "    }\n",
       "\n",
       "    .dataframe thead th {\n",
       "        text-align: right;\n",
       "    }\n",
       "</style>\n",
       "<table border=\"1\" class=\"dataframe\">\n",
       "  <thead>\n",
       "    <tr style=\"text-align: right;\">\n",
       "      <th></th>\n",
       "      <th>Name</th>\n",
       "      <th>Gender</th>\n",
       "      <th>Details</th>\n",
       "      <th>Total</th>\n",
       "    </tr>\n",
       "  </thead>\n",
       "  <tbody>\n",
       "    <tr>\n",
       "      <th>0</th>\n",
       "      <td>Adalbert</td>\n",
       "      <td>m</td>\n",
       "      <td>1 character</td>\n",
       "      <td>1</td>\n",
       "    </tr>\n",
       "    <tr>\n",
       "      <th>1</th>\n",
       "      <td>Adaldrida</td>\n",
       "      <td>f</td>\n",
       "      <td>1 character</td>\n",
       "      <td>1</td>\n",
       "    </tr>\n",
       "    <tr>\n",
       "      <th>2</th>\n",
       "      <td>Adalgar</td>\n",
       "      <td>m</td>\n",
       "      <td>1 character</td>\n",
       "      <td>1</td>\n",
       "    </tr>\n",
       "    <tr>\n",
       "      <th>3</th>\n",
       "      <td>Adalgrim</td>\n",
       "      <td>m</td>\n",
       "      <td>1 character</td>\n",
       "      <td>1</td>\n",
       "    </tr>\n",
       "    <tr>\n",
       "      <th>4</th>\n",
       "      <td>Adamanta</td>\n",
       "      <td>f</td>\n",
       "      <td>1 character</td>\n",
       "      <td>1</td>\n",
       "    </tr>\n",
       "  </tbody>\n",
       "</table>\n",
       "</div>"
      ],
      "text/plain": [
       "        Name Gender      Details  Total\n",
       "0   Adalbert      m  1 character      1\n",
       "1  Adaldrida      f  1 character      1\n",
       "2    Adalgar      m  1 character      1\n",
       "3   Adalgrim      m  1 character      1\n",
       "4   Adamanta      f  1 character      1"
      ]
     },
     "execution_count": 1,
     "metadata": {},
     "output_type": "execute_result"
    }
   ],
   "source": [
    "import pandas as pd\n",
    "\n",
    "raw_tolkien_chars = pd.read_html('https://www.behindthename.com/namesakes/list/tolkien/name')\n",
    "raw_tolkien_chars[2].head()"
   ]
  },
  {
   "cell_type": "code",
   "execution_count": 2,
   "id": "b8a6358c",
   "metadata": {},
   "outputs": [
    {
     "data": {
      "text/plain": [
       "350           Gethron\n",
       "351    Ghân-buri-Ghân\n",
       "352            Gildis\n",
       "353            Gildor\n",
       "354         Gil-galad\n",
       "Name: Name, dtype: object"
      ]
     },
     "execution_count": 2,
     "metadata": {},
     "output_type": "execute_result"
    }
   ],
   "source": [
    "tolkien_names = raw_tolkien_chars[2]['Name']\n",
    "tolkien_names.iloc[350:355]"
   ]
  },
  {
   "cell_type": "markdown",
   "id": "5736e52d",
   "metadata": {},
   "source": [
    "Preprocess names to transform unicode characters into ASCII, remove punctuation marks and transform to lowercase"
   ]
  },
  {
   "cell_type": "code",
   "execution_count": 3,
   "id": "61ea1e7a",
   "metadata": {},
   "outputs": [],
   "source": [
    "import unidecode\n",
    "\n",
    "processed_tolkien_names = tolkien_names.apply(unidecode.unidecode).str.lower().str.replace('-', ' ')\n",
    "processed_tolkien_names = [name[0] for name in processed_tolkien_names.str.split()]\n",
    "processed_tolkien_names = pd.DataFrame(processed_tolkien_names, columns=['name']).sort_values('name').drop_duplicates()\n",
    "processed_tolkien_names['tolkien'] = 1"
   ]
  },
  {
   "cell_type": "code",
   "execution_count": 4,
   "id": "2438e83b",
   "metadata": {},
   "outputs": [
    {
     "data": {
      "text/plain": [
       "350    gethron\n",
       "351       ghan\n",
       "354        gil\n",
       "352     gildis\n",
       "353     gildor\n",
       "Name: name, dtype: object"
      ]
     },
     "execution_count": 4,
     "metadata": {},
     "output_type": "execute_result"
    }
   ],
   "source": [
    "processed_tolkien_names['name'].iloc[350:355]"
   ]
  },
  {
   "cell_type": "code",
   "execution_count": 5,
   "id": "ecb462d7",
   "metadata": {},
   "outputs": [
    {
     "data": {
      "text/plain": [
       "(746, 2)"
      ]
     },
     "execution_count": 5,
     "metadata": {},
     "output_type": "execute_result"
    }
   ],
   "source": [
    "processed_tolkien_names.shape"
   ]
  },
  {
   "cell_type": "markdown",
   "id": "d382cd5e",
   "metadata": {},
   "source": [
    "### Prescription drugs"
   ]
  },
  {
   "cell_type": "code",
   "execution_count": 6,
   "id": "497ecae2",
   "metadata": {},
   "outputs": [
    {
     "data": {
      "text/html": [
       "<div>\n",
       "<style scoped>\n",
       "    .dataframe tbody tr th:only-of-type {\n",
       "        vertical-align: middle;\n",
       "    }\n",
       "\n",
       "    .dataframe tbody tr th {\n",
       "        vertical-align: top;\n",
       "    }\n",
       "\n",
       "    .dataframe thead th {\n",
       "        text-align: right;\n",
       "    }\n",
       "</style>\n",
       "<table border=\"1\" class=\"dataframe\">\n",
       "  <thead>\n",
       "    <tr style=\"text-align: right;\">\n",
       "      <th></th>\n",
       "      <th>Drug Name</th>\n",
       "      <th>Active Ingredient</th>\n",
       "      <th>Form;Route</th>\n",
       "      <th>Appl. No.</th>\n",
       "      <th>Company</th>\n",
       "      <th>Date</th>\n",
       "      <th>Link</th>\n",
       "    </tr>\n",
       "  </thead>\n",
       "  <tbody>\n",
       "    <tr>\n",
       "      <th>0</th>\n",
       "      <td>Abilify</td>\n",
       "      <td>Aripiprazole</td>\n",
       "      <td>TABLET, ORALLY DISINTEGRATING;ORAL</td>\n",
       "      <td>21729</td>\n",
       "      <td>OTSUKA</td>\n",
       "      <td>02/05/2020</td>\n",
       "      <td>https://www.accessdata.fda.gov/drugsatfda_docs...</td>\n",
       "    </tr>\n",
       "    <tr>\n",
       "      <th>1</th>\n",
       "      <td>Abilify</td>\n",
       "      <td>Aripiprazole</td>\n",
       "      <td>TABLET;ORAL</td>\n",
       "      <td>21436</td>\n",
       "      <td>OTSUKA</td>\n",
       "      <td>02/05/2020</td>\n",
       "      <td>https://www.accessdata.fda.gov/drugsatfda_docs...</td>\n",
       "    </tr>\n",
       "    <tr>\n",
       "      <th>2</th>\n",
       "      <td>Abilify</td>\n",
       "      <td>Aripiprazole</td>\n",
       "      <td>SOLUTION;ORAL</td>\n",
       "      <td>21713</td>\n",
       "      <td>OTSUKA</td>\n",
       "      <td>02/05/2020</td>\n",
       "      <td>https://www.accessdata.fda.gov/drugsatfda_docs...</td>\n",
       "    </tr>\n",
       "    <tr>\n",
       "      <th>3</th>\n",
       "      <td>Abilify</td>\n",
       "      <td>Aripiprazole</td>\n",
       "      <td>SOLUTION;ORAL</td>\n",
       "      <td>21713</td>\n",
       "      <td>OTSUKA</td>\n",
       "      <td>02/05/2020</td>\n",
       "      <td>https://www.accessdata.fda.gov/drugsatfda_docs...</td>\n",
       "    </tr>\n",
       "    <tr>\n",
       "      <th>4</th>\n",
       "      <td>Abilify</td>\n",
       "      <td>Aripiprazole</td>\n",
       "      <td>INJECTABLE;INTRAMUSCULAR</td>\n",
       "      <td>21866</td>\n",
       "      <td>OTSUKA</td>\n",
       "      <td>02/05/2020</td>\n",
       "      <td>https://www.accessdata.fda.gov/drugsatfda_docs...</td>\n",
       "    </tr>\n",
       "  </tbody>\n",
       "</table>\n",
       "</div>"
      ],
      "text/plain": [
       "  Drug Name Active Ingredient                          Form;Route  Appl. No.  \\\n",
       "0   Abilify      Aripiprazole  TABLET, ORALLY DISINTEGRATING;ORAL      21729   \n",
       "1   Abilify      Aripiprazole                         TABLET;ORAL      21436   \n",
       "2   Abilify      Aripiprazole                       SOLUTION;ORAL      21713   \n",
       "3   Abilify      Aripiprazole                       SOLUTION;ORAL      21713   \n",
       "4   Abilify      Aripiprazole            INJECTABLE;INTRAMUSCULAR      21866   \n",
       "\n",
       "  Company        Date                                               Link  \n",
       "0  OTSUKA  02/05/2020  https://www.accessdata.fda.gov/drugsatfda_docs...  \n",
       "1  OTSUKA  02/05/2020  https://www.accessdata.fda.gov/drugsatfda_docs...  \n",
       "2  OTSUKA  02/05/2020  https://www.accessdata.fda.gov/drugsatfda_docs...  \n",
       "3  OTSUKA  02/05/2020  https://www.accessdata.fda.gov/drugsatfda_docs...  \n",
       "4  OTSUKA  02/05/2020  https://www.accessdata.fda.gov/drugsatfda_docs...  "
      ]
     },
     "execution_count": 6,
     "metadata": {},
     "output_type": "execute_result"
    }
   ],
   "source": [
    "raw_medication_guide = pd.read_csv('data/raw/medication_guides.csv')\n",
    "raw_medication_guide.head()"
   ]
  },
  {
   "cell_type": "code",
   "execution_count": 7,
   "id": "5900b6bf",
   "metadata": {},
   "outputs": [
    {
     "data": {
      "text/plain": [
       "160                                             Chantix\n",
       "161         Children's Cetirizine Hydrochloride Allergy\n",
       "162    Chlordiazepoxide and Amitriptyline Hydrochloride\n",
       "163                                              Cimzia\n",
       "164                                              Cimzia\n",
       "Name: Drug Name, dtype: object"
      ]
     },
     "execution_count": 7,
     "metadata": {},
     "output_type": "execute_result"
    }
   ],
   "source": [
    "drug_names = raw_medication_guide['Drug Name']\n",
    "drug_names.iloc[160:165]"
   ]
  },
  {
   "cell_type": "markdown",
   "id": "d817c6fe",
   "metadata": {},
   "source": [
    "Preprocess names to remove punctuation marks and transform to lowercase"
   ]
  },
  {
   "cell_type": "code",
   "execution_count": 8,
   "id": "4f9f59c3",
   "metadata": {},
   "outputs": [],
   "source": [
    "processed_drug_names = drug_names.str.lower().str.replace('.', '').str.replace( '-', ' ').str.replace('/', ' ').str.replace(\"'\", ' ').str.replace(\",\", ' ')\n",
    "processed_drug_names = [name[0] for name in processed_drug_names.str.split()]\n",
    "processed_drug_names = pd.DataFrame(processed_drug_names, columns=['name']).sort_values('name').drop_duplicates()\n",
    "processed_drug_names['tolkien'] = 0"
   ]
  },
  {
   "cell_type": "code",
   "execution_count": 9,
   "id": "33604fa5",
   "metadata": {},
   "outputs": [
    {
     "data": {
      "text/plain": [
       "160             chantix\n",
       "161            children\n",
       "162    chlordiazepoxide\n",
       "166              cimzia\n",
       "175               cipro\n",
       "Name: name, dtype: object"
      ]
     },
     "execution_count": 9,
     "metadata": {},
     "output_type": "execute_result"
    }
   ],
   "source": [
    "processed_drug_names['name'].iloc[84:89]"
   ]
  },
  {
   "cell_type": "code",
   "execution_count": 10,
   "id": "55da759b",
   "metadata": {},
   "outputs": [
    {
     "data": {
      "text/plain": [
       "(611, 2)"
      ]
     },
     "execution_count": 10,
     "metadata": {},
     "output_type": "execute_result"
    }
   ],
   "source": [
    "processed_drug_names.shape"
   ]
  },
  {
   "cell_type": "code",
   "execution_count": 11,
   "id": "f237f4c4",
   "metadata": {},
   "outputs": [
    {
     "data": {
      "text/html": [
       "<div>\n",
       "<style scoped>\n",
       "    .dataframe tbody tr th:only-of-type {\n",
       "        vertical-align: middle;\n",
       "    }\n",
       "\n",
       "    .dataframe tbody tr th {\n",
       "        vertical-align: top;\n",
       "    }\n",
       "\n",
       "    .dataframe thead th {\n",
       "        text-align: right;\n",
       "    }\n",
       "</style>\n",
       "<table border=\"1\" class=\"dataframe\">\n",
       "  <thead>\n",
       "    <tr style=\"text-align: right;\">\n",
       "      <th></th>\n",
       "      <th>name</th>\n",
       "      <th>tolkien</th>\n",
       "    </tr>\n",
       "  </thead>\n",
       "  <tbody>\n",
       "    <tr>\n",
       "      <th>0</th>\n",
       "      <td>adalbert</td>\n",
       "      <td>1</td>\n",
       "    </tr>\n",
       "    <tr>\n",
       "      <th>1</th>\n",
       "      <td>adaldrida</td>\n",
       "      <td>1</td>\n",
       "    </tr>\n",
       "    <tr>\n",
       "      <th>2</th>\n",
       "      <td>adalgar</td>\n",
       "      <td>1</td>\n",
       "    </tr>\n",
       "    <tr>\n",
       "      <th>3</th>\n",
       "      <td>adalgrim</td>\n",
       "      <td>1</td>\n",
       "    </tr>\n",
       "    <tr>\n",
       "      <th>4</th>\n",
       "      <td>adamanta</td>\n",
       "      <td>1</td>\n",
       "    </tr>\n",
       "  </tbody>\n",
       "</table>\n",
       "</div>"
      ],
      "text/plain": [
       "        name  tolkien\n",
       "0   adalbert        1\n",
       "1  adaldrida        1\n",
       "2    adalgar        1\n",
       "3   adalgrim        1\n",
       "4   adamanta        1"
      ]
     },
     "execution_count": 11,
     "metadata": {},
     "output_type": "execute_result"
    }
   ],
   "source": [
    "dataset = pd.concat([processed_tolkien_names, processed_drug_names], ignore_index=True)\n",
    "dataset.to_csv('data/processed/dataset.csv', index=False, header=True)\n",
    "dataset.head()"
   ]
  },
  {
   "cell_type": "markdown",
   "id": "10dde974",
   "metadata": {},
   "source": [
    "## Data transformation"
   ]
  },
  {
   "cell_type": "code",
   "execution_count": 12,
   "id": "bd06a4ba",
   "metadata": {},
   "outputs": [
    {
     "name": "stderr",
     "output_type": "stream",
     "text": [
      "Using TensorFlow backend.\n"
     ]
    },
    {
     "name": "stdout",
     "output_type": "stream",
     "text": [
      "bilbo\n",
      "[16, 3, 6, 16, 5]\n"
     ]
    }
   ],
   "source": [
    "import pandas as pd\n",
    "dataset = pd.read_csv('data/processed/dataset.csv')\n",
    "\n",
    "from keras.preprocessing.text import Tokenizer\n",
    "tokenizer = Tokenizer(char_level=True)\n",
    "tokenizer.fit_on_texts(dataset['name'])\n",
    "char_index = tokenizer.texts_to_sequences(dataset['name'])\n",
    "\n",
    "print(dataset['name'][134])\n",
    "print(char_index[134])"
   ]
  },
  {
   "cell_type": "markdown",
   "id": "a7c4c1c8",
   "metadata": {},
   "source": [
    "Each letter is represented by an integer"
   ]
  },
  {
   "cell_type": "code",
   "execution_count": 13,
   "id": "b4d9edf7",
   "metadata": {},
   "outputs": [
    {
     "name": "stdout",
     "output_type": "stream",
     "text": [
      "[[0. 0. 0. 0. 0. 0. 0. 0. 0. 0. 0. 0. 0. 0. 0. 0. 1. 0. 0. 0. 0. 0. 0. 0.\n",
      "  0. 0. 0.]\n",
      " [0. 0. 0. 1. 0. 0. 0. 0. 0. 0. 0. 0. 0. 0. 0. 0. 0. 0. 0. 0. 0. 0. 0. 0.\n",
      "  0. 0. 0.]\n",
      " [0. 0. 0. 0. 0. 0. 1. 0. 0. 0. 0. 0. 0. 0. 0. 0. 0. 0. 0. 0. 0. 0. 0. 0.\n",
      "  0. 0. 0.]\n",
      " [0. 0. 0. 0. 0. 0. 0. 0. 0. 0. 0. 0. 0. 0. 0. 0. 1. 0. 0. 0. 0. 0. 0. 0.\n",
      "  0. 0. 0.]\n",
      " [0. 0. 0. 0. 0. 1. 0. 0. 0. 0. 0. 0. 0. 0. 0. 0. 0. 0. 0. 0. 0. 0. 0. 0.\n",
      "  0. 0. 0.]\n",
      " [1. 0. 0. 0. 0. 0. 0. 0. 0. 0. 0. 0. 0. 0. 0. 0. 0. 0. 0. 0. 0. 0. 0. 0.\n",
      "  0. 0. 0.]\n",
      " [1. 0. 0. 0. 0. 0. 0. 0. 0. 0. 0. 0. 0. 0. 0. 0. 0. 0. 0. 0. 0. 0. 0. 0.\n",
      "  0. 0. 0.]\n",
      " [1. 0. 0. 0. 0. 0. 0. 0. 0. 0. 0. 0. 0. 0. 0. 0. 0. 0. 0. 0. 0. 0. 0. 0.\n",
      "  0. 0. 0.]\n",
      " [1. 0. 0. 0. 0. 0. 0. 0. 0. 0. 0. 0. 0. 0. 0. 0. 0. 0. 0. 0. 0. 0. 0. 0.\n",
      "  0. 0. 0.]\n",
      " [1. 0. 0. 0. 0. 0. 0. 0. 0. 0. 0. 0. 0. 0. 0. 0. 0. 0. 0. 0. 0. 0. 0. 0.\n",
      "  0. 0. 0.]\n",
      " [1. 0. 0. 0. 0. 0. 0. 0. 0. 0. 0. 0. 0. 0. 0. 0. 0. 0. 0. 0. 0. 0. 0. 0.\n",
      "  0. 0. 0.]\n",
      " [1. 0. 0. 0. 0. 0. 0. 0. 0. 0. 0. 0. 0. 0. 0. 0. 0. 0. 0. 0. 0. 0. 0. 0.\n",
      "  0. 0. 0.]\n",
      " [1. 0. 0. 0. 0. 0. 0. 0. 0. 0. 0. 0. 0. 0. 0. 0. 0. 0. 0. 0. 0. 0. 0. 0.\n",
      "  0. 0. 0.]\n",
      " [1. 0. 0. 0. 0. 0. 0. 0. 0. 0. 0. 0. 0. 0. 0. 0. 0. 0. 0. 0. 0. 0. 0. 0.\n",
      "  0. 0. 0.]\n",
      " [1. 0. 0. 0. 0. 0. 0. 0. 0. 0. 0. 0. 0. 0. 0. 0. 0. 0. 0. 0. 0. 0. 0. 0.\n",
      "  0. 0. 0.]\n",
      " [1. 0. 0. 0. 0. 0. 0. 0. 0. 0. 0. 0. 0. 0. 0. 0. 0. 0. 0. 0. 0. 0. 0. 0.\n",
      "  0. 0. 0.]\n",
      " [1. 0. 0. 0. 0. 0. 0. 0. 0. 0. 0. 0. 0. 0. 0. 0. 0. 0. 0. 0. 0. 0. 0. 0.\n",
      "  0. 0. 0.]]\n"
     ]
    }
   ],
   "source": [
    "from keras.preprocessing.sequence import pad_sequences\n",
    "from keras.utils import to_categorical\n",
    "import numpy as np\n",
    "\n",
    "char_index = pad_sequences(char_index, maxlen=dataset['name'].apply(len).max(), padding=\"post\")\n",
    "x = to_categorical(char_index)  # onehot encoding\n",
    "y = np.array(dataset['tolkien'])\n",
    "\n",
    "print(x[134])"
   ]
  },
  {
   "cell_type": "markdown",
   "id": "73cc7bb0",
   "metadata": {},
   "source": [
    "Now each letter/integer is represented by a one-hot encoded vector.\n",
    "\n",
    "The vector consists of 0s in all cells with the exception of a single 1 in a cell to identify the letter."
   ]
  },
  {
   "cell_type": "code",
   "execution_count": 14,
   "id": "62b03f13",
   "metadata": {},
   "outputs": [
    {
     "data": {
      "text/plain": [
       "(1357, 17, 27)"
      ]
     },
     "execution_count": 14,
     "metadata": {},
     "output_type": "execute_result"
    }
   ],
   "source": [
    "x.shape"
   ]
  },
  {
   "cell_type": "code",
   "execution_count": 15,
   "id": "096875f9",
   "metadata": {},
   "outputs": [
    {
     "name": "stdout",
     "output_type": "stream",
     "text": [
      "There are 1357 words. Each word has 17 letters and each letter is represented by an one-hot encoded vector of size 27.\n"
     ]
    }
   ],
   "source": [
    "print(f\"There are {x.shape[0]} words. Each word has {x.shape[1]} letters and each letter is represented by an one-hot encoded vector of size {x.shape[2]}.\")"
   ]
  },
  {
   "cell_type": "markdown",
   "id": "ea8790b3",
   "metadata": {},
   "source": [
    "## Data split"
   ]
  },
  {
   "cell_type": "code",
   "execution_count": 16,
   "id": "58161547",
   "metadata": {},
   "outputs": [],
   "source": [
    "from sklearn.model_selection import train_test_split\n",
    "\n",
    "def data_split(data, labels, train_ratio=0.5, rand_seed=42):\n",
    "\n",
    "    x_train, x_temp, y_train, y_temp = train_test_split(data,\n",
    "                                                        labels,\n",
    "                                                        train_size=train_ratio,\n",
    "                                                        random_state=rand_seed)\n",
    "\n",
    "    x_val, x_test, y_val, y_test = train_test_split(x_temp,\n",
    "                                                    y_temp,\n",
    "                                                    train_size=0.5,\n",
    "                                                    random_state=rand_seed)\n",
    "\n",
    "    return x_train, x_val, x_test, y_train, y_val, y_test\n",
    "\n",
    "x_train, x_val, x_test, y_train, y_val, y_test = data_split(x, y, train_ratio=0.6)"
   ]
  },
  {
   "cell_type": "code",
   "execution_count": 17,
   "id": "720dd3ae",
   "metadata": {},
   "outputs": [
    {
     "data": {
      "image/png": "[encoded data removed]",
      "text/plain": [
       "<Figure size 432x288 with 1 Axes>"
      ]
     },
     "metadata": {
      "needs_background": "light"
     },
     "output_type": "display_data"
    },
    {
     "name": "stdout",
     "output_type": "stream",
     "text": [
      "Total number of samples: \n",
      "1357\n",
      "Class/Samples: \n",
      "1    746\n",
      "0    611\n",
      "dtype: int64\n",
      "Split/Class/Samples: \n",
      "         1    0\n",
      "train  451  363\n",
      "val    149  122\n",
      "test   146  126\n"
     ]
    }
   ],
   "source": [
    "from collections import Counter\n",
    "import matplotlib.pyplot as plt\n",
    "\n",
    "dataset_count = pd.DataFrame([Counter(y_train), Counter(y_val), Counter(y_test)],\n",
    "                                index=[\"train\", \"val\", \"test\"])\n",
    "dataset_count.plot(kind='bar')\n",
    "plt.xticks(rotation=0)\n",
    "plt.show()\n",
    "\n",
    "print(f\"Total number of samples: \\n{dataset_count.sum(axis=0).sum()}\")\n",
    "print(f\"Class/Samples: \\n{dataset_count.sum(axis=0)}\")\n",
    "print(f\"Split/Class/Samples: \\n{dataset_count}\")"
   ]
  },
  {
   "cell_type": "markdown",
   "id": "28943453",
   "metadata": {},
   "source": [
    "## Model"
   ]
  },
  {
   "cell_type": "markdown",
   "id": "53878d33",
   "metadata": {},
   "source": [
    "### Training"
   ]
  },
  {
   "cell_type": "code",
   "execution_count": 18,
   "id": "31dda5b0",
   "metadata": {},
   "outputs": [
    {
     "name": "stdout",
     "output_type": "stream",
     "text": [
      "Model: \"sequential\"\n",
      "_________________________________________________________________\n",
      "Layer (type)                 Output Shape              Param #   \n",
      "=================================================================\n",
      "lstm (LSTM)                  (None, 8)                 1152      \n",
      "_________________________________________________________________\n",
      "dropout (Dropout)            (None, 8)                 0         \n",
      "_________________________________________________________________\n",
      "dense (Dense)                (None, 1)                 9         \n",
      "_________________________________________________________________\n",
      "activation (Activation)      (None, 1)                 0         \n",
      "=================================================================\n",
      "Total params: 1,161\n",
      "Trainable params: 1,161\n",
      "Non-trainable params: 0\n",
      "_________________________________________________________________\n"
     ]
    }
   ],
   "source": [
    "from tensorflow.keras import Sequential\n",
    "from tensorflow.keras.layers import Dense, Activation, Dropout, LSTM\n",
    "from tensorflow.random import set_seed\n",
    "set_seed(23)\n",
    "\n",
    "model = Sequential()\n",
    "model.add(LSTM(8, return_sequences=False,\n",
    "               input_shape=(x.shape[1], x.shape[2])))\n",
    "model.add(Dropout(0.3))\n",
    "model.add(Dense(units=1))\n",
    "model.add(Activation('sigmoid'))\n",
    "model.summary()"
   ]
  },
  {
   "cell_type": "code",
   "execution_count": 19,
   "id": "40fafaec",
   "metadata": {},
   "outputs": [],
   "source": [
    "from tensorflow.keras.optimizers import Adam\n",
    "\n",
    "model.compile(loss=\"binary_crossentropy\",\n",
    "              optimizer=Adam(learning_rate=1e-3), metrics=['accuracy'])"
   ]
  },
  {
   "cell_type": "code",
   "execution_count": 20,
   "id": "a90fb53a",
   "metadata": {},
   "outputs": [
    {
     "name": "stdout",
     "output_type": "stream",
     "text": [
      "Epoch 1/100\n",
      "26/26 [==============================] - 5s 81ms/step - loss: 0.6832 - accuracy: 0.5750 - val_loss: 0.6864 - val_accuracy: 0.5535\n",
      "\n",
      "Epoch 00001: val_loss improved from inf to 0.68640, saving model to best_model.h5\n",
      "Epoch 2/100\n",
      "26/26 [==============================] - 0s 17ms/step - loss: 0.6879 - accuracy: 0.5471 - val_loss: 0.6850 - val_accuracy: 0.5535\n",
      "\n",
      "Epoch 00002: val_loss improved from 0.68640 to 0.68499, saving model to best_model.h5\n",
      "Epoch 3/100\n",
      "26/26 [==============================] - 1s 23ms/step - loss: 0.6881 - accuracy: 0.5335 - val_loss: 0.6837 - val_accuracy: 0.5572\n",
      "\n",
      "Epoch 00003: val_loss improved from 0.68499 to 0.68375, saving model to best_model.h5\n",
      "Epoch 4/100\n",
      "26/26 [==============================] - 0s 15ms/step - loss: 0.6845 - accuracy: 0.5408 - val_loss: 0.6812 - val_accuracy: 0.5572\n",
      "\n",
      "Epoch 00004: val_loss improved from 0.68375 to 0.68123, saving model to best_model.h5\n",
      "Epoch 5/100\n",
      "26/26 [==============================] - 0s 17ms/step - loss: 0.6805 - accuracy: 0.5717 - val_loss: 0.6739 - val_accuracy: 0.5572\n",
      "\n",
      "Epoch 00005: val_loss improved from 0.68123 to 0.67387, saving model to best_model.h5\n",
      "Epoch 6/100\n",
      "26/26 [==============================] - 1s 21ms/step - loss: 0.6747 - accuracy: 0.5762 - val_loss: 0.6462 - val_accuracy: 0.6236\n",
      "\n",
      "Epoch 00006: val_loss improved from 0.67387 to 0.64619, saving model to best_model.h5\n",
      "Epoch 7/100\n",
      "26/26 [==============================] - 0s 18ms/step - loss: 0.6399 - accuracy: 0.6835 - val_loss: 0.5467 - val_accuracy: 0.7565\n",
      "\n",
      "Epoch 00007: val_loss improved from 0.64619 to 0.54668, saving model to best_model.h5\n",
      "Epoch 8/100\n",
      "26/26 [==============================] - 0s 15ms/step - loss: 0.5314 - accuracy: 0.7791 - val_loss: 0.4748 - val_accuracy: 0.7638\n",
      "\n",
      "Epoch 00008: val_loss improved from 0.54668 to 0.47483, saving model to best_model.h5\n",
      "Epoch 9/100\n",
      "26/26 [==============================] - 1s 22ms/step - loss: 0.4865 - accuracy: 0.7902 - val_loss: 0.4316 - val_accuracy: 0.8081\n",
      "\n",
      "Epoch 00009: val_loss improved from 0.47483 to 0.43158, saving model to best_model.h5\n",
      "Epoch 10/100\n",
      "26/26 [==============================] - 1s 20ms/step - loss: 0.4782 - accuracy: 0.8054 - val_loss: 0.4371 - val_accuracy: 0.8081\n",
      "\n",
      "Epoch 00010: val_loss did not improve from 0.43158\n",
      "Epoch 11/100\n",
      "26/26 [==============================] - 0s 16ms/step - loss: 0.4567 - accuracy: 0.8003 - val_loss: 0.4035 - val_accuracy: 0.8266\n",
      "\n",
      "Epoch 00011: val_loss improved from 0.43158 to 0.40354, saving model to best_model.h5\n",
      "Epoch 12/100\n",
      "26/26 [==============================] - 0s 18ms/step - loss: 0.4373 - accuracy: 0.8220 - val_loss: 0.4029 - val_accuracy: 0.8192\n",
      "\n",
      "Epoch 00012: val_loss improved from 0.40354 to 0.40286, saving model to best_model.h5\n",
      "Epoch 13/100\n",
      "26/26 [==============================] - 1s 21ms/step - loss: 0.4420 - accuracy: 0.8217 - val_loss: 0.3860 - val_accuracy: 0.8413\n",
      "\n",
      "Epoch 00013: val_loss improved from 0.40286 to 0.38597, saving model to best_model.h5\n",
      "Epoch 14/100\n",
      "26/26 [==============================] - 0s 17ms/step - loss: 0.4220 - accuracy: 0.8353 - val_loss: 0.3857 - val_accuracy: 0.8339\n",
      "\n",
      "Epoch 00014: val_loss improved from 0.38597 to 0.38571, saving model to best_model.h5\n",
      "Epoch 15/100\n",
      "26/26 [==============================] - 0s 16ms/step - loss: 0.3818 - accuracy: 0.8553 - val_loss: 0.3790 - val_accuracy: 0.8339\n",
      "\n",
      "Epoch 00015: val_loss improved from 0.38571 to 0.37898, saving model to best_model.h5\n",
      "Epoch 16/100\n",
      "26/26 [==============================] - 0s 17ms/step - loss: 0.4128 - accuracy: 0.8299 - val_loss: 0.3732 - val_accuracy: 0.8487\n",
      "\n",
      "Epoch 00016: val_loss improved from 0.37898 to 0.37319, saving model to best_model.h5\n",
      "Epoch 17/100\n",
      "26/26 [==============================] - 1s 26ms/step - loss: 0.4449 - accuracy: 0.8227 - val_loss: 0.3785 - val_accuracy: 0.8413\n",
      "\n",
      "Epoch 00017: val_loss did not improve from 0.37319\n",
      "Epoch 18/100\n",
      "26/26 [==============================] - 0s 17ms/step - loss: 0.4559 - accuracy: 0.8164 - val_loss: 0.3680 - val_accuracy: 0.8487\n",
      "\n",
      "Epoch 00018: val_loss improved from 0.37319 to 0.36799, saving model to best_model.h5\n",
      "Epoch 19/100\n",
      "26/26 [==============================] - 1s 23ms/step - loss: 0.3864 - accuracy: 0.8605 - val_loss: 0.3695 - val_accuracy: 0.8561\n",
      "\n",
      "Epoch 00019: val_loss did not improve from 0.36799\n",
      "Epoch 20/100\n",
      "26/26 [==============================] - 1s 33ms/step - loss: 0.4079 - accuracy: 0.8407 - val_loss: 0.3667 - val_accuracy: 0.8450\n",
      "\n",
      "Epoch 00020: val_loss improved from 0.36799 to 0.36667, saving model to best_model.h5\n",
      "Epoch 21/100\n",
      "26/26 [==============================] - 0s 18ms/step - loss: 0.3902 - accuracy: 0.8478 - val_loss: 0.3815 - val_accuracy: 0.8450\n",
      "\n",
      "Epoch 00021: val_loss did not improve from 0.36667\n",
      "Epoch 22/100\n",
      "26/26 [==============================] - 0s 16ms/step - loss: 0.3837 - accuracy: 0.8527 - val_loss: 0.3699 - val_accuracy: 0.8339\n",
      "\n",
      "Epoch 00022: val_loss did not improve from 0.36667\n",
      "Epoch 23/100\n",
      "26/26 [==============================] - 0s 16ms/step - loss: 0.4058 - accuracy: 0.8367 - val_loss: 0.3614 - val_accuracy: 0.8229\n",
      "\n",
      "Epoch 00023: val_loss improved from 0.36667 to 0.36141, saving model to best_model.h5\n",
      "Epoch 24/100\n",
      "26/26 [==============================] - 1s 24ms/step - loss: 0.3681 - accuracy: 0.8623 - val_loss: 0.3635 - val_accuracy: 0.8339\n",
      "\n",
      "Epoch 00024: val_loss did not improve from 0.36141\n",
      "Epoch 25/100\n",
      "26/26 [==============================] - 1s 24ms/step - loss: 0.4107 - accuracy: 0.8421 - val_loss: 0.3594 - val_accuracy: 0.8303\n",
      "\n",
      "Epoch 00025: val_loss improved from 0.36141 to 0.35935, saving model to best_model.h5\n",
      "Epoch 26/100\n",
      "26/26 [==============================] - 0s 19ms/step - loss: 0.3808 - accuracy: 0.8508 - val_loss: 0.3843 - val_accuracy: 0.8450\n",
      "\n",
      "Epoch 00026: val_loss did not improve from 0.35935\n",
      "Epoch 27/100\n",
      "26/26 [==============================] - 1s 25ms/step - loss: 0.4153 - accuracy: 0.8276 - val_loss: 0.3591 - val_accuracy: 0.8376\n",
      "\n",
      "Epoch 00027: val_loss improved from 0.35935 to 0.35915, saving model to best_model.h5\n",
      "Epoch 28/100\n",
      "26/26 [==============================] - 0s 17ms/step - loss: 0.4044 - accuracy: 0.8369 - val_loss: 0.3616 - val_accuracy: 0.8450\n",
      "\n",
      "Epoch 00028: val_loss did not improve from 0.35915\n",
      "Epoch 29/100\n",
      "26/26 [==============================] - 0s 19ms/step - loss: 0.3456 - accuracy: 0.8821 - val_loss: 0.3753 - val_accuracy: 0.8487\n",
      "\n",
      "Epoch 00029: val_loss did not improve from 0.35915\n",
      "Epoch 30/100\n",
      "26/26 [==============================] - 0s 17ms/step - loss: 0.3987 - accuracy: 0.8551 - val_loss: 0.3640 - val_accuracy: 0.8339\n",
      "\n",
      "Epoch 00030: val_loss did not improve from 0.35915\n",
      "Epoch 31/100\n",
      "26/26 [==============================] - 0s 18ms/step - loss: 0.4093 - accuracy: 0.8216 - val_loss: 0.3600 - val_accuracy: 0.8487\n",
      "\n",
      "Epoch 00031: val_loss did not improve from 0.35915\n",
      "Epoch 32/100\n",
      "26/26 [==============================] - 0s 14ms/step - loss: 0.3919 - accuracy: 0.8439 - val_loss: 0.3568 - val_accuracy: 0.8487\n",
      "\n",
      "Epoch 00032: val_loss improved from 0.35915 to 0.35684, saving model to best_model.h5\n",
      "Epoch 33/100\n",
      "26/26 [==============================] - 0s 14ms/step - loss: 0.3938 - accuracy: 0.8420 - val_loss: 0.3558 - val_accuracy: 0.8266\n",
      "\n",
      "Epoch 00033: val_loss improved from 0.35684 to 0.35585, saving model to best_model.h5\n",
      "Epoch 34/100\n",
      "26/26 [==============================] - 0s 15ms/step - loss: 0.3940 - accuracy: 0.8461 - val_loss: 0.3558 - val_accuracy: 0.8450\n",
      "\n",
      "Epoch 00034: val_loss improved from 0.35585 to 0.35584, saving model to best_model.h5\n",
      "Epoch 35/100\n",
      "26/26 [==============================] - 0s 15ms/step - loss: 0.3603 - accuracy: 0.8750 - val_loss: 0.3607 - val_accuracy: 0.8229\n",
      "\n",
      "Epoch 00035: val_loss did not improve from 0.35584\n",
      "Epoch 36/100\n",
      "26/26 [==============================] - 0s 15ms/step - loss: 0.3746 - accuracy: 0.8553 - val_loss: 0.3628 - val_accuracy: 0.8524\n",
      "\n",
      "Epoch 00036: val_loss did not improve from 0.35584\n",
      "Epoch 37/100\n",
      "26/26 [==============================] - 0s 14ms/step - loss: 0.3906 - accuracy: 0.8415 - val_loss: 0.3622 - val_accuracy: 0.8487\n",
      "\n",
      "Epoch 00037: val_loss did not improve from 0.35584\n",
      "Epoch 38/100\n",
      "26/26 [==============================] - 0s 19ms/step - loss: 0.3492 - accuracy: 0.8695 - val_loss: 0.3546 - val_accuracy: 0.8450\n",
      "\n",
      "Epoch 00038: val_loss improved from 0.35584 to 0.35461, saving model to best_model.h5\n"
     ]
    },
    {
     "name": "stdout",
     "output_type": "stream",
     "text": [
      "Epoch 39/100\n",
      "26/26 [==============================] - 1s 41ms/step - loss: 0.4079 - accuracy: 0.8438 - val_loss: 0.3796 - val_accuracy: 0.8155\n",
      "\n",
      "Epoch 00039: val_loss did not improve from 0.35461\n",
      "Epoch 40/100\n",
      "26/26 [==============================] - 1s 35ms/step - loss: 0.3814 - accuracy: 0.8434 - val_loss: 0.3614 - val_accuracy: 0.8487\n",
      "\n",
      "Epoch 00040: val_loss did not improve from 0.35461\n",
      "Epoch 41/100\n",
      "26/26 [==============================] - 1s 31ms/step - loss: 0.3643 - accuracy: 0.8622 - val_loss: 0.3570 - val_accuracy: 0.8487\n",
      "\n",
      "Epoch 00041: val_loss did not improve from 0.35461\n",
      "Epoch 42/100\n",
      "26/26 [==============================] - 1s 26ms/step - loss: 0.3475 - accuracy: 0.8633 - val_loss: 0.3576 - val_accuracy: 0.8303\n",
      "\n",
      "Epoch 00042: val_loss did not improve from 0.35461\n",
      "Epoch 43/100\n",
      "26/26 [==============================] - 1s 26ms/step - loss: 0.3651 - accuracy: 0.8572 - val_loss: 0.3555 - val_accuracy: 0.8413\n",
      "\n",
      "Epoch 00043: val_loss did not improve from 0.35461\n",
      "Epoch 44/100\n",
      "26/26 [==============================] - 1s 28ms/step - loss: 0.3686 - accuracy: 0.8617 - val_loss: 0.3709 - val_accuracy: 0.8487\n",
      "\n",
      "Epoch 00044: val_loss did not improve from 0.35461\n",
      "Epoch 45/100\n",
      "26/26 [==============================] - 0s 17ms/step - loss: 0.3567 - accuracy: 0.8530 - val_loss: 0.3552 - val_accuracy: 0.8450\n",
      "\n",
      "Epoch 00045: val_loss did not improve from 0.35461\n",
      "Epoch 46/100\n",
      "26/26 [==============================] - 0s 17ms/step - loss: 0.3505 - accuracy: 0.8639 - val_loss: 0.3543 - val_accuracy: 0.8376\n",
      "\n",
      "Epoch 00046: val_loss improved from 0.35461 to 0.35427, saving model to best_model.h5\n",
      "Epoch 47/100\n",
      "26/26 [==============================] - 1s 23ms/step - loss: 0.3491 - accuracy: 0.8672 - val_loss: 0.3505 - val_accuracy: 0.8487\n",
      "\n",
      "Epoch 00047: val_loss improved from 0.35427 to 0.35054, saving model to best_model.h5\n",
      "Epoch 48/100\n",
      "26/26 [==============================] - 0s 18ms/step - loss: 0.3630 - accuracy: 0.8616 - val_loss: 0.3604 - val_accuracy: 0.8450\n",
      "\n",
      "Epoch 00048: val_loss did not improve from 0.35054\n",
      "Epoch 49/100\n",
      "26/26 [==============================] - 0s 16ms/step - loss: 0.3814 - accuracy: 0.8504 - val_loss: 0.3516 - val_accuracy: 0.8413\n",
      "\n",
      "Epoch 00049: val_loss did not improve from 0.35054\n",
      "Epoch 50/100\n",
      "26/26 [==============================] - 1s 27ms/step - loss: 0.3414 - accuracy: 0.8667 - val_loss: 0.3533 - val_accuracy: 0.8413\n",
      "\n",
      "Epoch 00050: val_loss did not improve from 0.35054\n",
      "Epoch 51/100\n",
      "26/26 [==============================] - 1s 25ms/step - loss: 0.3350 - accuracy: 0.8679 - val_loss: 0.3503 - val_accuracy: 0.8524\n",
      "\n",
      "Epoch 00051: val_loss improved from 0.35054 to 0.35029, saving model to best_model.h5\n",
      "Epoch 52/100\n",
      "26/26 [==============================] - 1s 21ms/step - loss: 0.3494 - accuracy: 0.8582 - val_loss: 0.3495 - val_accuracy: 0.8413\n",
      "\n",
      "Epoch 00052: val_loss improved from 0.35029 to 0.34949, saving model to best_model.h5\n",
      "Epoch 53/100\n",
      "26/26 [==============================] - 1s 20ms/step - loss: 0.3473 - accuracy: 0.8713 - val_loss: 0.3510 - val_accuracy: 0.8376\n",
      "\n",
      "Epoch 00053: val_loss did not improve from 0.34949\n",
      "Epoch 54/100\n",
      "26/26 [==============================] - 1s 28ms/step - loss: 0.3532 - accuracy: 0.8612 - val_loss: 0.3526 - val_accuracy: 0.8450\n",
      "\n",
      "Epoch 00054: val_loss did not improve from 0.34949\n",
      "Epoch 55/100\n",
      "26/26 [==============================] - 1s 46ms/step - loss: 0.3346 - accuracy: 0.8666 - val_loss: 0.3592 - val_accuracy: 0.8524\n",
      "\n",
      "Epoch 00055: val_loss did not improve from 0.34949\n",
      "Epoch 56/100\n",
      "26/26 [==============================] - 1s 35ms/step - loss: 0.3089 - accuracy: 0.8921 - val_loss: 0.4013 - val_accuracy: 0.8266\n",
      "\n",
      "Epoch 00056: val_loss did not improve from 0.34949\n",
      "Epoch 57/100\n",
      "26/26 [==============================] - 1s 24ms/step - loss: 0.3915 - accuracy: 0.8420 - val_loss: 0.3663 - val_accuracy: 0.8450\n",
      "\n",
      "Epoch 00057: val_loss did not improve from 0.34949\n",
      "Epoch 58/100\n",
      "26/26 [==============================] - 1s 40ms/step - loss: 0.3428 - accuracy: 0.8825 - val_loss: 0.3512 - val_accuracy: 0.8303\n",
      "\n",
      "Epoch 00058: val_loss did not improve from 0.34949\n",
      "Epoch 59/100\n",
      "26/26 [==============================] - 1s 45ms/step - loss: 0.3402 - accuracy: 0.8708 - val_loss: 0.3753 - val_accuracy: 0.8376\n",
      "\n",
      "Epoch 00059: val_loss did not improve from 0.34949\n",
      "Epoch 60/100\n",
      "26/26 [==============================] - 1s 41ms/step - loss: 0.3607 - accuracy: 0.8727 - val_loss: 0.3638 - val_accuracy: 0.8487\n",
      "\n",
      "Epoch 00060: val_loss did not improve from 0.34949\n",
      "Epoch 61/100\n",
      "26/26 [==============================] - 1s 22ms/step - loss: 0.3579 - accuracy: 0.8698 - val_loss: 0.3605 - val_accuracy: 0.8413\n",
      "\n",
      "Epoch 00061: val_loss did not improve from 0.34949\n",
      "Epoch 62/100\n",
      "26/26 [==============================] - 1s 37ms/step - loss: 0.3512 - accuracy: 0.8550 - val_loss: 0.3662 - val_accuracy: 0.8487\n",
      "\n",
      "Epoch 00062: val_loss did not improve from 0.34949\n",
      "Epoch 63/100\n",
      "26/26 [==============================] - 1s 47ms/step - loss: 0.3364 - accuracy: 0.8827 - val_loss: 0.3789 - val_accuracy: 0.8524\n",
      "\n",
      "Epoch 00063: val_loss did not improve from 0.34949\n",
      "Epoch 64/100\n",
      "26/26 [==============================] - 1s 49ms/step - loss: 0.3111 - accuracy: 0.8800 - val_loss: 0.3943 - val_accuracy: 0.8229\n",
      "\n",
      "Epoch 00064: val_loss did not improve from 0.34949\n",
      "Epoch 65/100\n",
      "26/26 [==============================] - 1s 47ms/step - loss: 0.3347 - accuracy: 0.8702 - val_loss: 0.3662 - val_accuracy: 0.8376\n",
      "\n",
      "Epoch 00065: val_loss did not improve from 0.34949\n",
      "Epoch 66/100\n",
      "26/26 [==============================] - 1s 44ms/step - loss: 0.3037 - accuracy: 0.8860 - val_loss: 0.3671 - val_accuracy: 0.8303\n",
      "\n",
      "Epoch 00066: val_loss did not improve from 0.34949\n",
      "Epoch 67/100\n",
      "26/26 [==============================] - 1s 28ms/step - loss: 0.3426 - accuracy: 0.8657 - val_loss: 0.3708 - val_accuracy: 0.8339\n",
      "\n",
      "Epoch 00067: val_loss did not improve from 0.34949\n",
      "Epoch 68/100\n",
      "26/26 [==============================] - 1s 37ms/step - loss: 0.3071 - accuracy: 0.8728 - val_loss: 0.3873 - val_accuracy: 0.8487\n",
      "\n",
      "Epoch 00068: val_loss did not improve from 0.34949\n",
      "Epoch 69/100\n",
      "26/26 [==============================] - 1s 31ms/step - loss: 0.3120 - accuracy: 0.8881 - val_loss: 0.3782 - val_accuracy: 0.8413\n",
      "\n",
      "Epoch 00069: val_loss did not improve from 0.34949\n",
      "Epoch 70/100\n",
      "26/26 [==============================] - 1s 21ms/step - loss: 0.3283 - accuracy: 0.8541 - val_loss: 0.3842 - val_accuracy: 0.8413\n",
      "\n",
      "Epoch 00070: val_loss did not improve from 0.34949\n",
      "Epoch 71/100\n",
      "26/26 [==============================] - 1s 25ms/step - loss: 0.3277 - accuracy: 0.8951 - val_loss: 0.3977 - val_accuracy: 0.8155\n",
      "\n",
      "Epoch 00071: val_loss did not improve from 0.34949\n",
      "Epoch 72/100\n",
      "26/26 [==============================] - 1s 28ms/step - loss: 0.3085 - accuracy: 0.8836 - val_loss: 0.3861 - val_accuracy: 0.8487\n",
      "\n",
      "Epoch 00072: val_loss did not improve from 0.34949\n",
      "Epoch 00072: early stopping\n"
     ]
    }
   ],
   "source": [
    "from tensorflow.keras.callbacks import EarlyStopping, ModelCheckpoint\n",
    "\n",
    "es = EarlyStopping(monitor='val_loss', verbose=1, patience=20)\n",
    "mc = ModelCheckpoint(\"best_model.h5\", monitor='val_loss',\n",
    "                     verbose=1, save_best_only=True)\n",
    "\n",
    "history = model.fit(x_train, y_train, batch_size=32, epochs=100,\n",
    "                    validation_data=(x_val, y_val), callbacks=[es, mc])"
   ]
  },
  {
   "cell_type": "code",
   "execution_count": 21,
   "id": "40bbfca0",
   "metadata": {},
   "outputs": [
    {
     "name": "stdout",
     "output_type": "stream",
     "text": [
      "Best epoch: 52\n"
     ]
    }
   ],
   "source": [
    "val_loss_per_epoch = history.history['val_loss']\n",
    "best_epoch = val_loss_per_epoch.index(min(val_loss_per_epoch)) + 1\n",
    "print(f\"Best epoch: {best_epoch}\")"
   ]
  },
  {
   "cell_type": "code",
   "execution_count": 22,
   "id": "153fc17a",
   "metadata": {},
   "outputs": [
    {
     "data": {
      "image/png": "[encoded data removed]",
      "text/plain": [
       "<Figure size 864x432 with 2 Axes>"
      ]
     },
     "metadata": {
      "needs_background": "light"
     },
     "output_type": "display_data"
    }
   ],
   "source": [
    "def plot_metrics(history):\n",
    "    \n",
    "    plt.figure(figsize=(12,6))\n",
    "    \n",
    "    plt.subplot(1,2,1)\n",
    "    plt.plot(history.history['accuracy'], label='Training')\n",
    "    plt.plot(history.history['val_accuracy'], label='Validation')\n",
    "    plt.xlabel('Epoch')\n",
    "    plt.ylabel('Accuracy')\n",
    "    plt.legend(loc='lower right')\n",
    "    plt.grid('on')\n",
    "\n",
    "    plt.subplot(1,2,2)\n",
    "    plt.plot(history.history['loss'], label='Training')\n",
    "    plt.plot(history.history['val_loss'], label='Validation')\n",
    "    plt.xlabel('Epoch')\n",
    "    plt.ylabel('Loss')\n",
    "    plt.legend(loc='upper right')\n",
    "    plt.grid('on')\n",
    "\n",
    "plot_metrics(history)"
   ]
  },
  {
   "cell_type": "markdown",
   "id": "55e561e6",
   "metadata": {},
   "source": [
    "Accuracy value quickly reaches a plateau (+/- 80%).\n",
    "\n",
    "Model starts overfitting after epoch 50."
   ]
  },
  {
   "cell_type": "markdown",
   "id": "96e720dd",
   "metadata": {},
   "source": [
    "## Performance evaluation"
   ]
  },
  {
   "cell_type": "code",
   "execution_count": 23,
   "id": "b416b0fa",
   "metadata": {},
   "outputs": [
    {
     "name": "stdout",
     "output_type": "stream",
     "text": [
      "9/9 [==============================] - 2s 8ms/step - loss: 0.4595 - accuracy: 0.8125\n"
     ]
    }
   ],
   "source": [
    "from tensorflow.keras.models import load_model\n",
    "\n",
    "model = load_model(\"best_model.h5\")\n",
    "metrics = model.evaluate(x=x_test, y=y_test)"
   ]
  },
  {
   "cell_type": "code",
   "execution_count": 24,
   "id": "210f0378",
   "metadata": {},
   "outputs": [
    {
     "name": "stdout",
     "output_type": "stream",
     "text": [
      "Accuracy: 81.25 %\n"
     ]
    }
   ],
   "source": [
    "print(\"Accuracy: {0:.2f} %\".format(metrics[1]*100))"
   ]
  },
  {
   "cell_type": "code",
   "execution_count": 25,
   "id": "682dd4a2",
   "metadata": {},
   "outputs": [
    {
     "data": {
      "image/png": "[encoded data removed]",
      "text/plain": [
       "<Figure size 432x288 with 2 Axes>"
      ]
     },
     "metadata": {
      "needs_background": "light"
     },
     "output_type": "display_data"
    }
   ],
   "source": [
    "from sklearn.metrics import confusion_matrix\n",
    "from seaborn import heatmap\n",
    "\n",
    "def plot_confusion_matrix(y_true, y_pred, labels):\n",
    "    \n",
    "    cm = confusion_matrix(y_true, y_pred)\n",
    "    heatmap(cm, annot=True, fmt=\"d\", cmap=\"rocket_r\", xticklabels=labels, yticklabels=labels)\n",
    "    plt.ylabel('True label')\n",
    "    plt.xlabel('Predicted label')\n",
    "    plt.show()\n",
    "\n",
    "predictions = model.predict(x_test)\n",
    "threshold = 0.5\n",
    "y_pred = predictions > threshold\n",
    "plot_confusion_matrix(y_test, y_pred, labels=['Drug','Tolkien'])"
   ]
  },
  {
   "cell_type": "code",
   "execution_count": 26,
   "id": "ae6c30da",
   "metadata": {},
   "outputs": [
    {
     "name": "stdout",
     "output_type": "stream",
     "text": [
      "              precision    recall  f1-score   support\n",
      "\n",
      "        Drug       0.80      0.80      0.80       126\n",
      "     Tolkien       0.83      0.82      0.82       146\n",
      "\n",
      "    accuracy                           0.81       272\n",
      "   macro avg       0.81      0.81      0.81       272\n",
      "weighted avg       0.81      0.81      0.81       272\n",
      "\n"
     ]
    }
   ],
   "source": [
    "from sklearn.metrics import classification_report\n",
    "\n",
    "print(classification_report(y_test, y_pred, target_names=['Drug', 'Tolkien']))"
   ]
  },
  {
   "cell_type": "code",
   "execution_count": 27,
   "id": "27acb321",
   "metadata": {},
   "outputs": [
    {
     "data": {
      "image/png": "[encoded data removed]",
      "text/plain": [
       "<Figure size 432x288 with 1 Axes>"
      ]
     },
     "metadata": {
      "needs_background": "light"
     },
     "output_type": "display_data"
    }
   ],
   "source": [
    "from sklearn.metrics import roc_curve, auc\n",
    "\n",
    "def plot_roc_curve(y_true, predictions):\n",
    "\n",
    "    fpr, tpr, thresholds = roc_curve(y_true, predictions)\n",
    "    auc_value = auc(fpr, tpr)\n",
    "    plt.plot(fpr, tpr, label=\"ROC curve (AUC = {0:.2f})\".format(auc_value))\n",
    "    plt.axis([0, 1, 0, 1])\n",
    "    plt.xlabel('False Positive Rate')\n",
    "    plt.ylabel('True Positive Rate')\n",
    "    plt.plot([0, 1], [0, 1], 'r--', label='Chance (AUC = 0.50)', alpha=.8)\n",
    "    plt.legend()\n",
    "    plt.grid('on')\n",
    "    plt.show()\n",
    "\n",
    "plot_roc_curve(y_test, predictions)"
   ]
  },
  {
   "cell_type": "markdown",
   "id": "528eb184",
   "metadata": {},
   "source": [
    "The model presents good accuracy. Precision and recall are pretty balanced as we can see by the F1-score."
   ]
  },
  {
   "cell_type": "markdown",
   "id": "d6785a9d",
   "metadata": {},
   "source": [
    "### Which Tolkien characters could pass as prescription drugs?\n",
    "A.K.A. False Negatives"
   ]
  },
  {
   "cell_type": "code",
   "execution_count": 28,
   "id": "0405db92",
   "metadata": {},
   "outputs": [],
   "source": [
    "def onehot_to_text(onehot_word):\n",
    "    char_index = [[np.argmax(char) for char in onehot_word]]\n",
    "    word = tokenizer.sequences_to_texts(char_index)\n",
    "    return ''.join(word[0].split())"
   ]
  },
  {
   "cell_type": "code",
   "execution_count": 29,
   "id": "0d4653dd",
   "metadata": {},
   "outputs": [
    {
     "data": {
      "text/html": [
       "<div>\n",
       "<style scoped>\n",
       "    .dataframe tbody tr th:only-of-type {\n",
       "        vertical-align: middle;\n",
       "    }\n",
       "\n",
       "    .dataframe tbody tr th {\n",
       "        vertical-align: top;\n",
       "    }\n",
       "\n",
       "    .dataframe thead th {\n",
       "        text-align: right;\n",
       "    }\n",
       "</style>\n",
       "<table border=\"1\" class=\"dataframe\">\n",
       "  <thead>\n",
       "    <tr style=\"text-align: right;\">\n",
       "      <th></th>\n",
       "      <th>true</th>\n",
       "      <th>prediction</th>\n",
       "      <th>name</th>\n",
       "    </tr>\n",
       "  </thead>\n",
       "  <tbody>\n",
       "    <tr>\n",
       "      <th>0</th>\n",
       "      <td>0</td>\n",
       "      <td>0</td>\n",
       "      <td>supprelin</td>\n",
       "    </tr>\n",
       "    <tr>\n",
       "      <th>1</th>\n",
       "      <td>1</td>\n",
       "      <td>1</td>\n",
       "      <td>bingo</td>\n",
       "    </tr>\n",
       "    <tr>\n",
       "      <th>2</th>\n",
       "      <td>0</td>\n",
       "      <td>0</td>\n",
       "      <td>ponstel</td>\n",
       "    </tr>\n",
       "    <tr>\n",
       "      <th>3</th>\n",
       "      <td>0</td>\n",
       "      <td>1</td>\n",
       "      <td>elidel</td>\n",
       "    </tr>\n",
       "    <tr>\n",
       "      <th>4</th>\n",
       "      <td>0</td>\n",
       "      <td>0</td>\n",
       "      <td>aubagio</td>\n",
       "    </tr>\n",
       "  </tbody>\n",
       "</table>\n",
       "</div>"
      ],
      "text/plain": [
       "   true  prediction       name\n",
       "0     0           0  supprelin\n",
       "1     1           1      bingo\n",
       "2     0           0    ponstel\n",
       "3     0           1     elidel\n",
       "4     0           0    aubagio"
      ]
     },
     "execution_count": 29,
     "metadata": {},
     "output_type": "execute_result"
    }
   ],
   "source": [
    "test_result = pd.DataFrame()\n",
    "test_result['true'] = y_test\n",
    "test_result['prediction'] = y_pred.astype(int)\n",
    "test_result['name'] = [onehot_to_text(name) for name in x_test]\n",
    "test_result.head()"
   ]
  },
  {
   "cell_type": "code",
   "execution_count": 30,
   "id": "d8c6f7dc",
   "metadata": {},
   "outputs": [
    {
     "data": {
      "text/plain": [
       "13              ivy\n",
       "17         camellia\n",
       "44      celebrindor\n",
       "47         meriadoc\n",
       "63        vanimelde\n",
       "64        finduilas\n",
       "75        eglantine\n",
       "84             ruby\n",
       "87            poppy\n",
       "89             otto\n",
       "100           tanta\n",
       "102          myrtle\n",
       "108          prisca\n",
       "132          cottar\n",
       "151          stybba\n",
       "171            este\n",
       "175           daisy\n",
       "189          tulkas\n",
       "195        arciryas\n",
       "205        odovacar\n",
       "206          tarcil\n",
       "207    hyarmendacil\n",
       "229            jago\n",
       "230            tata\n",
       "240           ponto\n",
       "271       landroval\n",
       "Name: name, dtype: object"
      ]
     },
     "execution_count": 30,
     "metadata": {},
     "output_type": "execute_result"
    }
   ],
   "source": [
    "test_result['name'].loc[(test_result['true']==1) & (test_result['prediction']==0)]"
   ]
  }
 ],
 "metadata": {
  "kernelspec": {
   "display_name": "Python 3",
   "language": "python",
   "name": "python3"
  },
  "language_info": {
   "codemirror_mode": {
    "name": "ipython",
    "version": 3
   },
   "file_extension": ".py",
   "mimetype": "text/x-python",
   "name": "python",
   "nbconvert_exporter": "python",
   "pygments_lexer": "ipython3",
   "version": "3.6.9"
  }
 },
 "nbformat": 4,
 "nbformat_minor": 5
}
